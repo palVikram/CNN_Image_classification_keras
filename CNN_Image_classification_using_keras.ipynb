{
 "cells": [
  {
   "cell_type": "code",
   "execution_count": 1,
   "metadata": {
    "collapsed": true
   },
   "outputs": [],
   "source": [
    "### Convolution neural network  image classification using keras\n",
    "### Put images data within their respective category and give path of parent folder in imgpath variable below\n",
    "### First step convertign normal images to raw image \n",
    "### Reading folder name \n",
    "### feature will be images raw and label will be folder name you have added your data\n",
    "\n",
    "from PIL import Image, ImageOps\n",
    "import os\n",
    "import numpy as np"
   ]
  },
  {
   "cell_type": "code",
   "execution_count": 2,
   "metadata": {
    "collapsed": true
   },
   "outputs": [],
   "source": [
    "desired_size = (128, 128)\n",
    "def resize_files(imgpath, mypath):\n",
    "    os.makedirs(mypath,exist_ok=True)\n",
    "    for path, subdirs, files in os.walk(imgpath):\n",
    "        for s in subdirs:\n",
    "            sub_path = os.path.join(path, s)\n",
    "            thumbnail_path = os.path.join(mypath, s) \n",
    "            os.makedirs(thumbnail_path, exist_ok=True)\n",
    "            subfiles = os.listdir(sub_path)\n",
    "\n",
    "            for img_file in subfiles:\n",
    "                img_file_path = os.path.join(path, s, img_file)\n",
    "                new_file_name = os.path.join(thumbnail_path, img_file)\n",
    "\n",
    "                img = Image.open(img_file_path)\n",
    "                img.thumbnail(desired_size)\n",
    "                w = img.size[0]\n",
    "                h = img.size[1]\n",
    "                topleft = (int((128-w)/2), int((128-h)/2))\n",
    "                square_image = Image.new('RGB', desired_size, (255, 255, 255))\n",
    "                square_image.paste(img, topleft)\n",
    "                square_image.save(new_file_name, \"JPEG\")\n",
    "                \n",
    "def normalize_image(arr):\n",
    "    arr = arr.astype('float')\n",
    "    arr /= 255\n",
    "    return arr\n",
    "        \n",
    "def normalize_images(imgpath, rawfilespath):\n",
    "    os.makedirs(rawfilespath,exist_ok=True)\n",
    "    for path, subdirs, files in os.walk(imgpath):\n",
    "        for s in subdirs:\n",
    "            sub_path = os.path.join(path, s)\n",
    "            raw_path = os.path.join(rawfilespath, s) \n",
    "            os.makedirs(raw_path, exist_ok=True)\n",
    "            subfiles = os.listdir(sub_path)\n",
    "            \n",
    "            for img_file in subfiles:\n",
    "                img_file_path = os.path.join(path, s, img_file)\n",
    "                raw_file_name = os.path.join(raw_path, img_file + '.raw')\n",
    "                img = Image.open(img_file_path)\n",
    "                arr = np.asarray(img)\n",
    "                arr = normalize_image(arr)\n",
    "                arr.tofile(raw_file_name)"
   ]
  },
  {
   "cell_type": "code",
   "execution_count": 7,
   "metadata": {
    "collapsed": true
   },
   "outputs": [],
   "source": [
    "imgpath =r'add path for dataset'"
   ]
  },
  {
   "cell_type": "code",
   "execution_count": 8,
   "metadata": {
    "collapsed": true
   },
   "outputs": [],
   "source": [
    "mypath = r'add any suitable path for thumbnail folder'"
   ]
  },
  {
   "cell_type": "code",
   "execution_count": 9,
   "metadata": {
    "collapsed": true
   },
   "outputs": [],
   "source": [
    "resize_files(imgpath, mypath)"
   ]
  },
  {
   "cell_type": "code",
   "execution_count": 11,
   "metadata": {
    "collapsed": true
   },
   "outputs": [],
   "source": [
    "imgpath = mypath\n",
    "rawpath =r'create a folder and add folder location for converted thumbnails pic to raw pic'\n",
    "normalize_images(imgpath, rawpath)"
   ]
  },
  {
   "cell_type": "code",
   "execution_count": 12,
   "metadata": {
    "collapsed": true
   },
   "outputs": [],
   "source": [
    "import os\n",
    "import numpy as np\n",
    "import pickle\n",
    "\n",
    "features=[]\n",
    "labels=[]\n",
    "classes=[]\n",
    "def image(imgpath):\n",
    "    for path, subdirs, files in os.walk(imgpath):\n",
    "        for s in subdirs:\n",
    "            sub_path=os.path.join(path,s)\n",
    "            subfiles=os.listdir(sub_path)\n",
    "            for f in subfiles:\n",
    "                labels.append(classes.index(s))\n",
    "                file_path=os.path.join(sub_path, f)\n",
    "                f=np.fromfile(file_path)\n",
    "                f=f.reshape(128,128,3)\n",
    "                features.append(f)\n",
    "    return features, labels\n",
    "\n",
    "def image_classes(imgpath):\n",
    "    for path, subdirs, files in os.walk(imgpath):\n",
    "        for s in subdirs:\n",
    "            classes.append(s)\n",
    "        return classes\n",
    "\n",
    "pickle.dump(classes, open(\"classes.pkl\", \"wb\"))"
   ]
  },
  {
   "cell_type": "code",
   "execution_count": 13,
   "metadata": {
    "collapsed": true
   },
   "outputs": [],
   "source": [
    "imgpath =r'C:\\Users\\Vikram\\Desktop\\bmo\\MachineLearning_microservice\\Dataset\\rawfiles'\n",
    "image_classes(imgpath)\n",
    "features, labels=image(imgpath)\n",
    "\n",
    "features=np.asarray(features)\n",
    "labels=np.asarray(labels)"
   ]
  },
  {
   "cell_type": "code",
   "execution_count": 14,
   "metadata": {},
   "outputs": [
    {
     "name": "stderr",
     "output_type": "stream",
     "text": [
      "C:\\Users\\Vikram\\Anaconda3\\lib\\site-packages\\h5py\\__init__.py:34: FutureWarning: Conversion of the second argument of issubdtype from `float` to `np.floating` is deprecated. In future, it will be treated as `np.float64 == np.dtype(float).type`.\n",
      "  from ._conv import register_converters as _register_converters\n",
      "Using TensorFlow backend.\n"
     ]
    }
   ],
   "source": [
    "from keras.utils import to_categorical\n",
    "\n",
    "def encode(data):\n",
    "    print('Shape of data (BEFORE encode): %s' % str(data.shape))\n",
    "    encoded = to_categorical(data)\n",
    "    print('Shape of data (AFTER  encode): %s\\n' % str(encoded.shape))\n",
    "    return encoded"
   ]
  },
  {
   "cell_type": "code",
   "execution_count": 15,
   "metadata": {},
   "outputs": [
    {
     "name": "stdout",
     "output_type": "stream",
     "text": [
      "Shape of data (BEFORE encode): (122,)\n",
      "Shape of data (AFTER  encode): (122, 8)\n",
      "\n"
     ]
    }
   ],
   "source": [
    "labels = encode(labels)"
   ]
  },
  {
   "cell_type": "code",
   "execution_count": 16,
   "metadata": {},
   "outputs": [
    {
     "name": "stderr",
     "output_type": "stream",
     "text": [
      "C:\\Users\\Vikram\\Anaconda3\\lib\\site-packages\\sklearn\\cross_validation.py:41: DeprecationWarning: This module was deprecated in version 0.18 in favor of the model_selection module into which all the refactored classes and functions are moved. Also note that the interface of the new CV iterators are different from that of this module. This module will be removed in 0.20.\n",
      "  \"This module will be removed in 0.20.\", DeprecationWarning)\n"
     ]
    }
   ],
   "source": [
    "from sklearn.cross_validation import train_test_split\n",
    "X_train, X_validation, y_train, y_validation= train_test_split(features,labels, test_size = 0.25, random_state = 0)"
   ]
  },
  {
   "cell_type": "code",
   "execution_count": 19,
   "metadata": {},
   "outputs": [
    {
     "name": "stderr",
     "output_type": "stream",
     "text": [
      "C:\\Users\\Vikram\\Anaconda3\\lib\\site-packages\\ipykernel_launcher.py:18: UserWarning: Update your `Conv2D` call to the Keras 2 API: `Conv2D(32, (3, 3), activation=\"relu\")`\n",
      "C:\\Users\\Vikram\\Anaconda3\\lib\\site-packages\\ipykernel_launcher.py:25: UserWarning: Update your `Dense` call to the Keras 2 API: `Dense(activation=\"relu\", units=128)`\n",
      "C:\\Users\\Vikram\\Anaconda3\\lib\\site-packages\\ipykernel_launcher.py:28: UserWarning: Update your `Dense` call to the Keras 2 API: `Dense(activation=\"softmax\", units=8)`\n"
     ]
    }
   ],
   "source": [
    "# Importing the Keras libraries and packages\n",
    "from keras.models import Sequential\n",
    "from keras.layers import Convolution2D\n",
    "from keras.layers import MaxPooling2D\n",
    "from keras.layers import Flatten\n",
    "from keras.layers import Dense\n",
    "\n",
    "# Initialising the CNN\n",
    "classifier = Sequential()\n",
    "\n",
    "# Step 1 - Convolution\n",
    "classifier.add(Convolution2D(32, (3, 3) , input_shape = (128, 128, 3), activation = 'relu'))\n",
    "\n",
    "# Step 2 - Pooling\n",
    "classifier.add(MaxPooling2D(pool_size = (2, 2)))\n",
    "\n",
    "# Adding a second convolutional layer\n",
    "classifier.add(Convolution2D(32, 3, 3, activation = 'relu'))\n",
    "classifier.add(MaxPooling2D(pool_size = (2, 2)))\n",
    "\n",
    "# Step 3 - Flattening\n",
    "classifier.add(Flatten())\n",
    "\n",
    "# Step 4 - Full connection\n",
    "classifier.add(Dense(output_dim = 128, activation = 'relu'))\n",
    "\n",
    "#o/p layer\n",
    "classifier.add(Dense(output_dim = 8, activation = 'softmax'))\n",
    "\n",
    "# Compiling the CNN\n",
    "classifier.compile(optimizer = 'adam', loss = 'binary_crossentropy', metrics = ['accuracy'])"
   ]
  },
  {
   "cell_type": "code",
   "execution_count": null,
   "metadata": {
    "collapsed": true
   },
   "outputs": [],
   "source": [
    "classifier.fit(X_train, y_train, batch_size = 25, nb_epoch = 200)"
   ]
  },
  {
   "cell_type": "code",
   "execution_count": null,
   "metadata": {
    "collapsed": true
   },
   "outputs": [],
   "source": [
    "import cv2\n",
    "\n",
    "def checking_classification_bill():\n",
    "    img=cv2.imread('Path of any image realted to your dataset to predict')\n",
    "    img=cv2.resize(img, (128,128))\n",
    "    img=img.reshape(1,128,128,3)\n",
    "    pred = classifier.predict(img)\n",
    "    return pred"
   ]
  },
  {
   "cell_type": "code",
   "execution_count": null,
   "metadata": {
    "collapsed": true
   },
   "outputs": [],
   "source": [
    "y_pred = (checking_classification_bill() > 0.5)\n",
    "print(y_pred)\n",
    "\n",
    "### Which class above image belong\n",
    "print(classes)"
   ]
  }
 ],
 "metadata": {
  "kernelspec": {
   "display_name": "Python 3",
   "language": "python",
   "name": "python3"
  },
  "language_info": {
   "codemirror_mode": {
    "name": "ipython",
    "version": 3
   },
   "file_extension": ".py",
   "mimetype": "text/x-python",
   "name": "python",
   "nbconvert_exporter": "python",
   "pygments_lexer": "ipython3",
   "version": "3.6.3"
  }
 },
 "nbformat": 4,
 "nbformat_minor": 2
}
